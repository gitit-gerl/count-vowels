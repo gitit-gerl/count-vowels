{
  "cells": [
    {
      "cell_type": "markdown",
      "metadata": {
        "id": "view-in-github",
        "colab_type": "text"
      },
      "source": [
        "<a href=\"https://colab.research.google.com/github/gitit-gerl/count-vowels/blob/main/numpy_review.ipynb\" target=\"_parent\"><img src=\"https://colab.research.google.com/assets/colab-badge.svg\" alt=\"Open In Colab\"/></a>"
      ]
    },
    {
      "cell_type": "markdown",
      "metadata": {
        "id": "pPgDrdcwKrvs"
      },
      "source": [
        "# NumPy Review Challenge\n",
        "\n",
        "To review some basic concepts, attempt to perform these basic NumPy tasks on your own and then watch the walkthrough video to check your solutions.\n",
        "\n",
        "Once your assignment is complete and you have watched the solution video to check your answers, make sure that you save it as `numpy_review` and upload it to CodeGrade to get credit for your work."
      ]
    },
    {
      "cell_type": "markdown",
      "metadata": {
        "id": "DxOu_uf5Krvy"
      },
      "source": [
        "Import numpy as np and check your version."
      ]
    },
    {
      "cell_type": "code",
      "execution_count": 1,
      "metadata": {
        "id": "z7ei2oyfKrvz"
      },
      "outputs": [],
      "source": [
        "import numpy as np"
      ]
    },
    {
      "cell_type": "markdown",
      "metadata": {
        "id": "CaER3uoSKrv0"
      },
      "source": [
        "**Q1:** Create a 1D array of numbers from `0` to `9` and save it as `Q1`."
      ]
    },
    {
      "cell_type": "code",
      "execution_count": 2,
      "metadata": {
        "colab": {
          "base_uri": "https://localhost:8080/"
        },
        "id": "SFAm-b8GKrv1",
        "outputId": "7362450d-f854-4e23-bfb1-5ee7473b91e2"
      },
      "outputs": [
        {
          "output_type": "execute_result",
          "data": {
            "text/plain": [
              "array([0, 1, 2, 3, 4, 5, 6, 7, 8, 9])"
            ]
          },
          "metadata": {},
          "execution_count": 2
        }
      ],
      "source": [
        "Q1 = np.arange(0,10)\n",
        "Q1"
      ]
    },
    {
      "cell_type": "markdown",
      "metadata": {
        "id": "F-2K5cgUKrv1"
      },
      "source": [
        "**Q2:** Create a 1D array of numbers from `10` to `49` and save it as `Q2`."
      ]
    },
    {
      "cell_type": "code",
      "execution_count": 3,
      "metadata": {
        "id": "Tlbqzj65Krv2"
      },
      "outputs": [],
      "source": [
        "Q2 = np.arange(10,50)"
      ]
    },
    {
      "cell_type": "markdown",
      "metadata": {
        "id": "cnjKV5vcKrv2"
      },
      "source": [
        "**Q3:** Copy the `Q2` array and save it as `Q3`.  Reverse the values in the `Q3` array (first element becomes the last)."
      ]
    },
    {
      "cell_type": "code",
      "execution_count": 4,
      "metadata": {
        "colab": {
          "base_uri": "https://localhost:8080/"
        },
        "id": "ECYf9rP-Krv3",
        "outputId": "5e0791cd-ec84-4089-e018-cb2df056d4e8"
      },
      "outputs": [
        {
          "output_type": "execute_result",
          "data": {
            "text/plain": [
              "array([49, 48, 47, 46, 45, 44, 43, 42, 41, 40, 39, 38, 37, 36, 35, 34, 33,\n",
              "       32, 31, 30, 29, 28, 27, 26, 25, 24, 23, 22, 21, 20, 19, 18, 17, 16,\n",
              "       15, 14, 13, 12, 11, 10])"
            ]
          },
          "metadata": {},
          "execution_count": 4
        }
      ],
      "source": [
        "Q3 = Q2.copy()\n",
        "np.flip(Q3)"
      ]
    },
    {
      "cell_type": "markdown",
      "metadata": {
        "id": "6X0rQ31cKrv4"
      },
      "source": [
        "**Q4:** Create a `3x3` matrix with values ranging from `1` to `9` and save it as `Q4`."
      ]
    },
    {
      "cell_type": "code",
      "execution_count": 5,
      "metadata": {
        "id": "17u3ba-cKrv4"
      },
      "outputs": [],
      "source": [
        "Q4 = np.arange(9).reshape(3,3)"
      ]
    },
    {
      "cell_type": "markdown",
      "metadata": {
        "id": "GQP9q-imKrv4"
      },
      "source": [
        "**Q5:** Set a random seed of `42`. Create a `10x5` array with random values and save it as `Q5`.  Use [np.random.random()](https://numpy.org/doc/stable/reference/random/generated/numpy.random.random.html#).  As a check, your first row of the array should be: `[0.37454012, 0.95071431, 0.73199394, 0.59865848, 0.15601864]`"
      ]
    },
    {
      "cell_type": "code",
      "execution_count": 6,
      "metadata": {
        "id": "p_-GncBIKrv5"
      },
      "outputs": [],
      "source": [
        "np.random.seed(42) \n",
        "Q5 = np.random.random((10,5))\n",
        "\n"
      ]
    },
    {
      "cell_type": "markdown",
      "metadata": {
        "id": "3BAJnkE7Krv5"
      },
      "source": [
        "**Q6:** Find the minimum and maximum values of above `Q5` array, rounding them to 4 decimal places.  Call the values `Q6A` and `Q6B` respectively. "
      ]
    },
    {
      "cell_type": "code",
      "execution_count": 7,
      "metadata": {
        "id": "3ntouqQ6Krv6"
      },
      "outputs": [],
      "source": [
        "Q6A = np.min(Q5)"
      ]
    },
    {
      "cell_type": "code",
      "execution_count": 8,
      "metadata": {
        "id": "orQ2q93XKrv6"
      },
      "outputs": [],
      "source": [
        "Q6B = np.round(Q5.max(), 4)\n"
      ]
    },
    {
      "cell_type": "markdown",
      "metadata": {
        "id": "IyPelalTKrv6"
      },
      "source": [
        "**Q7:** Find the mean value for the above `Q5` array, rounding to 4 decimal places.  Call this value `Q7`."
      ]
    },
    {
      "cell_type": "code",
      "execution_count": 9,
      "metadata": {
        "id": "f02xGhoPKrv7"
      },
      "outputs": [],
      "source": [
        "a = np.mean(Q5)\n",
        "Q7 = np.round(a,4)\n"
      ]
    },
    {
      "cell_type": "markdown",
      "metadata": {
        "id": "PpZYm0bDKrv7"
      },
      "source": [
        "**Q8:** Select all even numbers from the following array and call this output `Q8`.\n",
        "```python\n",
        "arr = np.array([0, 1, 2, 3, 4, 5, 6, 7, 8, 9])\n",
        "```"
      ]
    },
    {
      "cell_type": "code",
      "execution_count": 10,
      "metadata": {
        "id": "ome0D2qDKrv8"
      },
      "outputs": [],
      "source": [
        "arr = np.array([0, 1, 2, 3, 4, 5, 6, 7, 8, 9])\n",
        "\n",
        "Q8 = arr[arr%2==0]\n"
      ]
    },
    {
      "cell_type": "markdown",
      "metadata": {
        "id": "uN54l241Krv8"
      },
      "source": [
        "**Q9:** Make a copy of the `arr` array and call it `Q9`.  Replace all even numbers from `Q9` with `0`."
      ]
    },
    {
      "cell_type": "code",
      "execution_count": 11,
      "metadata": {
        "id": "EZ2e0cw5Krv9"
      },
      "outputs": [],
      "source": [
        "Q9 = arr.copy()\n",
        "Q9[Q9%2==0] = 0"
      ]
    },
    {
      "cell_type": "markdown",
      "metadata": {
        "id": "NhIAwS6rKrv9"
      },
      "source": [
        "**Q10:** Use the [where](https://numpy.org/doc/stable/reference/generated/numpy.where.html) method to replace all odd numbers from the above `Q9` array with a `-1` and call it `Q10`."
      ]
    },
    {
      "cell_type": "code",
      "execution_count": 12,
      "metadata": {
        "id": "5ARy6P3KKrv9"
      },
      "outputs": [],
      "source": [
        "Q10 = np.where(Q9%2==1,-1,Q9)"
      ]
    },
    {
      "cell_type": "markdown",
      "metadata": {
        "id": "kYDXhLXfKrv-"
      },
      "source": [
        "**Q11** Reshape the above `arr` array to a `2x5` array and call it `Q11`."
      ]
    },
    {
      "cell_type": "code",
      "execution_count": 13,
      "metadata": {
        "id": "m0yX_f6UKrv-"
      },
      "outputs": [],
      "source": [
        "Q11= arr.reshape(2,5)\n"
      ]
    },
    {
      "cell_type": "markdown",
      "metadata": {
        "id": "Lc0FCNJhKrv_"
      },
      "source": [
        "**Q12:** Stack `arr1` and `arr2` (both given below) vertically and call this array `Q12`."
      ]
    },
    {
      "cell_type": "code",
      "execution_count": 14,
      "metadata": {
        "id": "pQF97lzzKrwA"
      },
      "outputs": [],
      "source": [
        "arr1 = np.arange(10).reshape((2,5))\n",
        "arr2 = np.arange(10,20).reshape((2,5))\n",
        "\n",
        "Q12 = np.vstack((arr1,arr2))\n"
      ]
    },
    {
      "cell_type": "markdown",
      "metadata": {
        "id": "eJw4wE8kKrwA"
      },
      "source": [
        "**Q13:** Stack `arr1` and `arr2` horizontally and call this array `Q13`."
      ]
    },
    {
      "cell_type": "code",
      "execution_count": 15,
      "metadata": {
        "id": "GNed0I7ZKrwB"
      },
      "outputs": [],
      "source": [
        "Q13 = np.hstack((arr1,arr2))"
      ]
    },
    {
      "cell_type": "markdown",
      "metadata": {
        "id": "3dp2yek5KrwB"
      },
      "source": [
        "**Q14:** Swap the first and second columns in the following array called `arr3` and save it as `Q14`."
      ]
    },
    {
      "cell_type": "code",
      "execution_count": 16,
      "metadata": {
        "id": "9JfYwwJtKrwB"
      },
      "outputs": [],
      "source": [
        "arr3 = np.array([22,56,34,54,12,42,67,56,99]).reshape((3,3))"
      ]
    },
    {
      "cell_type": "code",
      "execution_count": 17,
      "metadata": {
        "id": "c7FA1vVDKrwC"
      },
      "outputs": [],
      "source": [
        "b = np.copy(arr3)\n",
        "Q14 = b[:, [0, 1,2]] = b[:, [1, 0,2]]"
      ]
    },
    {
      "cell_type": "markdown",
      "metadata": {
        "id": "LGSH7xzAKrwC"
      },
      "source": [
        "**Q15:** Swap rows 1 and 2 in the above `Q14` array and call it `Q15`."
      ]
    },
    {
      "cell_type": "code",
      "execution_count": 18,
      "metadata": {
        "id": "fVutpyV3KrwD"
      },
      "outputs": [],
      "source": [
        "Q15 = Q14[[0, 1,2]] = Q14[[1,0,2]]"
      ]
    },
    {
      "cell_type": "markdown",
      "metadata": {
        "id": "MnDuqUmEKrwD"
      },
      "source": [
        "**Q16:** Next, reverse the columns of the above `Q15` array and call it `Q16`."
      ]
    },
    {
      "cell_type": "code",
      "execution_count": 19,
      "metadata": {
        "id": "_vUDKZUgKrwD"
      },
      "outputs": [],
      "source": [
        "Q16 = np.fliplr(Q15)"
      ]
    },
    {
      "cell_type": "markdown",
      "metadata": {
        "id": "Il5RYyAQKrwD"
      },
      "source": [
        "**Q17:** Sort each row of the above `Q16` array from least to greatest and call it `Q17`."
      ]
    },
    {
      "cell_type": "code",
      "execution_count": 20,
      "metadata": {
        "id": "y9GuLbrBKrwD"
      },
      "outputs": [],
      "source": [
        "Q17 = np.sort(Q16)"
      ]
    },
    {
      "cell_type": "markdown",
      "metadata": {
        "id": "XK1_F6MEKrwN"
      },
      "source": [
        "**Q18:** Sort each column of the above `Q17` array from the least to the greatest and call it `Q18`."
      ]
    },
    {
      "cell_type": "code",
      "execution_count": 21,
      "metadata": {
        "id": "uELyz5eiKrwN"
      },
      "outputs": [],
      "source": [
        "Q18 = np.sort(Q17,axis = 0)"
      ]
    },
    {
      "cell_type": "markdown",
      "metadata": {
        "id": "h0M4GH77KrwN"
      },
      "source": [
        "** bold textQ19:** Create a `1D` array called `Q19` of `100` values that range evenly between `[1 - 200]`.\n"
      ]
    },
    {
      "cell_type": "code",
      "execution_count": 22,
      "metadata": {
        "id": "r6Dmi2KbKrwN"
      },
      "outputs": [],
      "source": [
        "Q19 = np.linspace(1,200,100)"
      ]
    },
    {
      "cell_type": "markdown",
      "metadata": {
        "id": "8Jgey5fMKrwO"
      },
      "source": [
        "**Q20:** Reshape `Q19` to a `25x4` array and call it `Q20`."
      ]
    },
    {
      "cell_type": "code",
      "execution_count": 23,
      "metadata": {
        "id": "JbVvJnRRKrwO"
      },
      "outputs": [],
      "source": [
        "Q20 = Q19.reshape(25,4)\n"
      ]
    },
    {
      "cell_type": "markdown",
      "metadata": {
        "id": "NxvZnhaeKrwO"
      },
      "source": [
        "**Q21:** Index the first row of `Q20` and save this as `Q21`."
      ]
    },
    {
      "cell_type": "code",
      "execution_count": 24,
      "metadata": {
        "id": "mW1UUqq4KrwO"
      },
      "outputs": [],
      "source": [
        "Q21 = Q20[0]"
      ]
    },
    {
      "cell_type": "markdown",
      "metadata": {
        "id": "lWf1jg5jKrwO"
      },
      "source": [
        "**Q22:** Index the second column of `Q20` and save this as `Q22`."
      ]
    },
    {
      "cell_type": "code",
      "execution_count": 25,
      "metadata": {
        "id": "kcsvL2yfKrwP"
      },
      "outputs": [],
      "source": [
        "Q22 = Q20[:,1]"
      ]
    },
    {
      "cell_type": "markdown",
      "metadata": {
        "id": "uAEvPNN-KrwP"
      },
      "source": [
        "**Q23:** Index every other row of `Q20` starting from the first and save this as `Q23`."
      ]
    },
    {
      "cell_type": "code",
      "execution_count": 26,
      "metadata": {
        "id": "nAS-w7FTKrwP"
      },
      "outputs": [],
      "source": [
        "Q23 = Q20[::2,:]\n"
      ]
    },
    {
      "cell_type": "markdown",
      "metadata": {
        "id": "w8tkjFJRKrwP"
      },
      "source": [
        "**Q24:** Index the 3rd, 5th and 7th row of the `Q20` array can save this as `Q24`."
      ]
    },
    {
      "cell_type": "code",
      "execution_count": 27,
      "metadata": {
        "colab": {
          "base_uri": "https://localhost:8080/"
        },
        "id": "mTzp6OGZKrwP",
        "outputId": "ed4b1c60-7aaf-4a7d-b596-5bf7691bd538"
      },
      "outputs": [
        {
          "output_type": "execute_result",
          "data": {
            "text/plain": [
              "array([[17.08080808, 19.09090909, 21.1010101 , 23.11111111],\n",
              "       [33.16161616, 35.17171717, 37.18181818, 39.19191919],\n",
              "       [49.24242424, 51.25252525, 53.26262626, 55.27272727]])"
            ]
          },
          "metadata": {},
          "execution_count": 27
        }
      ],
      "source": [
        "Q24 = Q20[[2,4,6]]\n",
        "Q24"
      ]
    },
    {
      "cell_type": "markdown",
      "metadata": {
        "id": "tG_pMK7XKrwQ"
      },
      "source": [
        "**Q25:** Copy the `Q20` array and save it as `Q25`.  Select only the values below 50 from `Q25`, add 5 to these values, and then multiply by 2. The other values should remain unchanged and everything should be saved back to `Q25`."
      ]
    },
    {
      "cell_type": "code",
      "execution_count": 28,
      "metadata": {
        "id": "WCUj_YEkKrwQ"
      },
      "outputs": [],
      "source": [
        "# make a copy of Q20\n",
        "import copy\n",
        "Q25 = copy.deepcopy(Q20)\n",
        "Q25[Q25<50] = (Q25[Q25<50]+5)*2"
      ]
    },
    {
      "cell_type": "markdown",
      "metadata": {
        "id": "oqA1-CVdKrwQ"
      },
      "source": [
        "**Q26:** Add `Q20` and `Q25` and call the new array `Q26`."
      ]
    },
    {
      "cell_type": "code",
      "execution_count": 29,
      "metadata": {
        "id": "HPpjHj3nKrwQ"
      },
      "outputs": [],
      "source": [
        "Q26 = Q20+ Q25"
      ]
    },
    {
      "cell_type": "markdown",
      "metadata": {
        "id": "20qTIGV3KrwQ"
      },
      "source": [
        "**Q27:** What is the `shape` of `Q26`?  Save this as `Q27`."
      ]
    },
    {
      "cell_type": "code",
      "execution_count": 30,
      "metadata": {
        "colab": {
          "base_uri": "https://localhost:8080/"
        },
        "id": "_T113R7RKrwR",
        "outputId": "c9ab030c-404a-45e9-c779-15646a1d5035"
      },
      "outputs": [
        {
          "output_type": "execute_result",
          "data": {
            "text/plain": [
              "(25, 4)"
            ]
          },
          "metadata": {},
          "execution_count": 30
        }
      ],
      "source": [
        "Q27 = np.shape(Q26)\n",
        "Q27"
      ]
    },
    {
      "cell_type": "markdown",
      "metadata": {
        "id": "M26v91AAKrwR"
      },
      "source": [
        "**Q28:** Cast `Q26` array as an `int64` data type.  Save this as `Q28`. What happens to the values?"
      ]
    },
    {
      "cell_type": "code",
      "execution_count": 31,
      "metadata": {
        "id": "K0wIF8n1KrwR"
      },
      "outputs": [],
      "source": [
        "Q28 = Q26.astype('int64')"
      ]
    },
    {
      "cell_type": "markdown",
      "metadata": {
        "id": "mLThPxVgKrwR"
      },
      "source": [
        "**Q29:** \n",
        "- Make a copy of the `Q28` array and call it `Q29`.  \n",
        "- Select the first value in the first 5 rows in `Q29` and call this slice `arr_slice`.\n",
        "- Update the second value in `arr_slice` to `42`. Before you check the results, will this update `Q29` or will it remain unchanged?"
      ]
    },
    {
      "cell_type": "code",
      "execution_count": 32,
      "metadata": {
        "id": "PLkXDFAKKrwS"
      },
      "outputs": [],
      "source": [
        "# make a copy of Q28\n",
        "Q29 = Q28.copy()\n",
        "arr_slice = Q29[0:5,0]\n",
        "arr_slice[1] = 42"
      ]
    },
    {
      "cell_type": "markdown",
      "metadata": {
        "id": "xv6ipfwsKrwS"
      },
      "source": [
        "**Q30:** Set all negative values in the `data` array (given below) to `0`.  For this exercise you will be updating the actual `data` array."
      ]
    },
    {
      "cell_type": "code",
      "execution_count": 33,
      "metadata": {
        "id": "kwTSDD_AKrwS"
      },
      "outputs": [],
      "source": [
        "# create new array\n",
        "data = np.array([2,-4,8,16,-32,-64,128])\n"
      ]
    },
    {
      "cell_type": "code",
      "execution_count": 38,
      "metadata": {
        "colab": {
          "base_uri": "https://localhost:8080/"
        },
        "id": "z2m_bwqaKrwS",
        "outputId": "1f789c9d-2b3b-45a5-a18f-c58bc98b788f"
      },
      "outputs": [
        {
          "output_type": "execute_result",
          "data": {
            "text/plain": [
              "array([  2,   0,   8,  16,   0,   0, 128])"
            ]
          },
          "metadata": {},
          "execution_count": 38
        }
      ],
      "source": [
        "data[data<0] = 0\n",
        "data"
      ]
    },
    {
      "cell_type": "markdown",
      "metadata": {
        "id": "Ja2ySU_zKrwT"
      },
      "source": [
        "Good work!"
      ]
    }
  ],
  "metadata": {
    "kernelspec": {
      "display_name": "Python 3",
      "language": "python",
      "name": "python3"
    },
    "language_info": {
      "codemirror_mode": {
        "name": "ipython",
        "version": 3
      },
      "file_extension": ".py",
      "mimetype": "text/x-python",
      "name": "python",
      "nbconvert_exporter": "python",
      "pygments_lexer": "ipython3",
      "version": "3.8.5"
    },
    "colab": {
      "provenance": [],
      "include_colab_link": true
    }
  },
  "nbformat": 4,
  "nbformat_minor": 0
}